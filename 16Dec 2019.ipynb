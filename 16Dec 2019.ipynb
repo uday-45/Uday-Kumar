{
 "cells": [
  {
   "cell_type": "markdown",
   "metadata": {},
   "source": [
    "# Heading\n",
    "## Heading\n",
    "### Heading\n",
    "#### Heading\n",
    "##### Heading\n",
    "###### Heading\n",
    "####### Heading(only 6 #'s are accepted)\n",
    "\n",
    "#### Ordered list\n",
    ">1. list1\n",
    ">2. list2\n",
    ">3. list3\n",
    ">4. list4\n",
    "\n",
    "#### Unordered list\n",
    "* list1\n",
    "* list2<br>\n",
    "  *list3\n",
    "* Hi,good evening to all(normal text)<br>\n",
    "*bold*<br>\n",
    "**italic**<br>\n",
    "***bold and italic***<br>\n",
    "<https://www.google.com><br>\n",
    "<https://www.gmail.com><br>\n",
    "<img src=\"apssdc.jpg\">"
   ]
  },
  {
   "cell_type": "code",
   "execution_count": null,
   "metadata": {},
   "outputs": [],
   "source": []
  }
 ],
 "metadata": {
  "kernelspec": {
   "display_name": "Python 3",
   "language": "python",
   "name": "python3"
  },
  "language_info": {
   "codemirror_mode": {
    "name": "ipython",
    "version": 3
   },
   "file_extension": ".py",
   "mimetype": "text/x-python",
   "name": "python",
   "nbconvert_exporter": "python",
   "pygments_lexer": "ipython3",
   "version": "3.7.4"
  }
 },
 "nbformat": 4,
 "nbformat_minor": 2
}
