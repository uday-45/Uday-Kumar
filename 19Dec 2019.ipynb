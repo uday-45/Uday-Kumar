{
 "cells": [
  {
   "cell_type": "markdown",
   "metadata": {},
   "source": [
    "## Packages\n",
    "- It is a collection of modules.\n",
    "- It is also a directory of modules containing aadditional file as \"__init__.py\".\n",
    "- It is a third party software repository for python.\n",
    "- Some python managers,including PIP,use PyPias the default source for packages and their dependencies."
   ]
  },
  {
   "cell_type": "markdown",
   "metadata": {},
   "source": [
    "## Modules\n",
    "- It is a collection of python prigramming files.\n",
    "- It allows you to logically organize your python code.\n",
    "- Grouping makes code easy to understand and use.\n",
    "- It can define functions,classes,variables.\n",
    "- It can also include runnable code."
   ]
  },
  {
   "cell_type": "markdown",
   "metadata": {},
   "source": [
    "## Regular expression\n",
    "- In computing a regular expression also referred as \"regex\",\"regexp\".\n",
    "- It provides a concise and flexible means for matching strings of text such as particular characters,words,patterns of characters.\n",
    "- A regular expression is written in a formal language that can be interpreted by a regular expression processor.\n",
    "- Really clever \"Wild card\" expressions for matching and parsing string."
   ]
  },
  {
   "cell_type": "markdown",
   "metadata": {},
   "source": [
    "## RE methods\n",
    "- The common methods used in RE are;\n",
    "- 1 match()\n",
    "- 2 search()\n",
    "- 3 findall()"
   ]
  },
  {
   "cell_type": "code",
   "execution_count": 1,
   "metadata": {},
   "outputs": [],
   "source": [
    "import re\n",
    "s=\"NsritStudents\"\n",
    "if re.match('N',s):\n",
    "    print(\"True\")\n",
    "else:\n",
    "    print(\"False\")"
   ]
  },
  {
   "cell_type": "code",
   "execution_count": 2,
   "metadata": {},
   "outputs": [
    {
     "data": {
      "text/plain": [
       "<re.Match object; span=(7, 8), match='u'>"
      ]
     },
     "execution_count": 2,
     "metadata": {},
     "output_type": "execute_result"
    }
   ],
   "source": [
    "import re\n",
    "re.search('u',s)"
   ]
  },
  {
   "cell_type": "code",
   "execution_count": 3,
   "metadata": {},
   "outputs": [
    {
     "name": "stdout",
     "output_type": "stream",
     "text": [
      "True\n"
     ]
    }
   ],
   "source": [
    "import re\n",
    "if re.search('S',s):\n",
    "    print(\"True\")\n",
    "else:\n",
    "    print(\"False\")"
   ]
  },
  {
   "cell_type": "code",
   "execution_count": 4,
   "metadata": {},
   "outputs": [
    {
     "data": {
      "text/plain": [
       "['t', 't', 't']"
      ]
     },
     "execution_count": 4,
     "metadata": {},
     "output_type": "execute_result"
    }
   ],
   "source": [
    "import re\n",
    "re.findall('t',s)"
   ]
  },
  {
   "cell_type": "markdown",
   "metadata": {},
   "source": [
    "## Methods for RE\n",
    "- \"^\" is for checking the first letter of the given string.\n",
    "- \"$\" is for checking the last letter of the given string.\n",
    "- \".\" is for checking the character .\n",
    "- \"\\s\" is for checking whitespaces and prints if present.\n",
    "- \"\\s\" is for checking nonwhite spaces and ingores if whitespaces are present.\n",
    "- \"*\" repeats a character for zero or more times.\n",
    "- \"+\" repeats a character for one or more times.\n",
    "- [a-c][0-9] matches a single characters in the list.\n",
    "- [^abc] matches a single character in the list.\n",
    "- {9} range.\n",
    "- {0,5} between range."
   ]
  },
  {
   "cell_type": "code",
   "execution_count": 5,
   "metadata": {},
   "outputs": [
    {
     "name": "stdout",
     "output_type": "stream",
     "text": [
      "<re.Match object; span=(0, 1), match='U'>\n"
     ]
    }
   ],
   "source": [
    "import re\n",
    "s=\"Uday Kumar \"\n",
    "print(re.match('^U',s))"
   ]
  },
  {
   "cell_type": "code",
   "execution_count": 6,
   "metadata": {},
   "outputs": [
    {
     "name": "stdout",
     "output_type": "stream",
     "text": [
      "False\n"
     ]
    }
   ],
   "source": [
    "import re\n",
    "if re.match('^u',s):\n",
    "    print(\"True\")\n",
    "else:\n",
    "    print(\"False\")"
   ]
  },
  {
   "cell_type": "code",
   "execution_count": 7,
   "metadata": {},
   "outputs": [
    {
     "name": "stdout",
     "output_type": "stream",
     "text": [
      "None\n"
     ]
    }
   ],
   "source": [
    "import re\n",
    "print(re.search('r$',s))"
   ]
  },
  {
   "cell_type": "code",
   "execution_count": 8,
   "metadata": {},
   "outputs": [
    {
     "name": "stdout",
     "output_type": "stream",
     "text": [
      "False\n"
     ]
    }
   ],
   "source": [
    "import re\n",
    "if re.search('a$',s):\n",
    "    print(\"True\")\n",
    "else:\n",
    "    print(\"False\")"
   ]
  },
  {
   "cell_type": "code",
   "execution_count": 9,
   "metadata": {},
   "outputs": [
    {
     "name": "stdout",
     "output_type": "stream",
     "text": [
      "<re.Match object; span=(2, 4), match='ay'>\n"
     ]
    }
   ],
   "source": [
    "import re \n",
    "print(re.search('a.',s))"
   ]
  },
  {
   "cell_type": "code",
   "execution_count": 10,
   "metadata": {},
   "outputs": [
    {
     "name": "stdout",
     "output_type": "stream",
     "text": [
      "True\n"
     ]
    }
   ],
   "source": [
    "import re\n",
    "if re.search('r.',s):\n",
    "    print(\"True\")\n",
    "else:\n",
    "    print(\"False\")"
   ]
  },
  {
   "cell_type": "code",
   "execution_count": 11,
   "metadata": {},
   "outputs": [
    {
     "data": {
      "text/plain": [
       "'Uday Kumar '"
      ]
     },
     "execution_count": 11,
     "metadata": {},
     "output_type": "execute_result"
    }
   ],
   "source": [
    "s"
   ]
  },
  {
   "cell_type": "code",
   "execution_count": 12,
   "metadata": {},
   "outputs": [
    {
     "name": "stdout",
     "output_type": "stream",
     "text": [
      "[' ', ' ']\n"
     ]
    }
   ],
   "source": [
    "import re\n",
    "print(re.findall('\\s',s))"
   ]
  },
  {
   "cell_type": "code",
   "execution_count": 13,
   "metadata": {},
   "outputs": [
    {
     "name": "stdout",
     "output_type": "stream",
     "text": [
      "True\n"
     ]
    }
   ],
   "source": [
    "import re\n",
    "if re.findall('\\s',s):\n",
    "    print(\"True\")\n",
    "else:\n",
    "    print(\"False\")"
   ]
  },
  {
   "cell_type": "code",
   "execution_count": 14,
   "metadata": {},
   "outputs": [
    {
     "name": "stdout",
     "output_type": "stream",
     "text": [
      "['U', 'd', 'a', 'y', 'K', 'u', 'm', 'a', 'r']\n"
     ]
    }
   ],
   "source": [
    "import re\n",
    "print(re.findall('\\S',s))"
   ]
  },
  {
   "cell_type": "code",
   "execution_count": 15,
   "metadata": {},
   "outputs": [
    {
     "name": "stdout",
     "output_type": "stream",
     "text": [
      "True\n"
     ]
    }
   ],
   "source": [
    "import re\n",
    "if re.findall(\"\\S\",s):\n",
    "    print(\"True\")\n",
    "else:\n",
    "    print(\"False\")"
   ]
  },
  {
   "cell_type": "code",
   "execution_count": 16,
   "metadata": {},
   "outputs": [
    {
     "name": "stdout",
     "output_type": "stream",
     "text": [
      "['']\n"
     ]
    }
   ],
   "source": [
    "import re\n",
    "print(re.findall(\"$\",s))"
   ]
  },
  {
   "cell_type": "code",
   "execution_count": 17,
   "metadata": {},
   "outputs": [
    {
     "name": "stdout",
     "output_type": "stream",
     "text": [
      "Enter a mob num:8726387345986\n",
      "False\n"
     ]
    }
   ],
   "source": [
    "import re\n",
    "s=input(\"Enter a mob num:\")\n",
    "if re.match(\"^[6-9][0-9]{9}$|[0][6-9][0-9]{9}$|[+][9][1][6-9][0-9]{9}$\",s):\n",
    "    print(\"True\")\n",
    "else:\n",
    "    print(\"False\")"
   ]
  },
  {
   "cell_type": "code",
   "execution_count": 18,
   "metadata": {},
   "outputs": [
    {
     "name": "stdout",
     "output_type": "stream",
     "text": [
      "658376458076\n"
     ]
    },
    {
     "data": {
      "text/plain": [
       "False"
      ]
     },
     "execution_count": 18,
     "metadata": {},
     "output_type": "execute_result"
    }
   ],
   "source": [
    "import re\n",
    "def PNV(number):\n",
    "    pattern='^[6-9][0-9]{9}$|^[0][6-9][0-9]{9}$|^[+][9][1][6-9][0-9]{9}$'\n",
    "    if re.match(pattern,str(number)):\n",
    "        return True\n",
    "    return False\n",
    "PNV(input())"
   ]
  },
  {
   "cell_type": "code",
   "execution_count": 19,
   "metadata": {},
   "outputs": [
    {
     "name": "stdout",
     "output_type": "stream",
     "text": [
      "Enter a mail id:jhsgckjhdsf@gmail.com\n",
      "Your mail is valid\n"
     ]
    }
   ],
   "source": [
    "import re\n",
    "id=input(\"Enter a mail id:\")\n",
    "if re.match(\"^[a-z0-9][a-z0-9_.]{3,16}[@][a-z0-9]{3,7}[.][a-z]{2,5}\",id):\n",
    "    print(\"Your mail is valid\")\n",
    "else:\n",
    "    print(\"Your mail is invalid\")"
   ]
  },
  {
   "cell_type": "code",
   "execution_count": 20,
   "metadata": {},
   "outputs": [
    {
     "name": "stdout",
     "output_type": "stream",
     "text": [
      "iuhgjsoidhg@gmail.com\n",
      "Your mail is valid\n"
     ]
    }
   ],
   "source": [
    "import re\n",
    "def mail(email):\n",
    "    if re.match(\"^[a-z0-9][a-z0-9_.]{3,16}[@][a-z0-9]{3,7}[.][a-z]{2,5}\",id):\n",
    "        print(\"Your mail is valid\")\n",
    "    else:\n",
    "        print(\"Your mail is invalid\")\n",
    "mail(input())"
   ]
  },
  {
   "cell_type": "code",
   "execution_count": 21,
   "metadata": {},
   "outputs": [
    {
     "name": "stdout",
     "output_type": "stream",
     "text": [
      "Your mail is valid\n",
      "Invalid email address\n"
     ]
    },
    {
     "data": {
      "text/plain": [
       "{'name1': [8989767654, 'name1@gmail.com'],\n",
       " 'name2': [9878786578, 'name2@gmail.com']}"
      ]
     },
     "execution_count": 21,
     "metadata": {},
     "output_type": "execute_result"
    }
   ],
   "source": [
    "contacts={\"name1\":[8989767654,\"name1@gmail.com\"],\"name2\":[9878786578,\"name2@gmail.com\"]}\n",
    "def addcontacts(name,number,email):\n",
    "    if name in contacts:\n",
    "        print(name,\"already exists\")\n",
    "    else:\n",
    "        if not PNV(number):\n",
    "            print(\"Invalid phone number\")\n",
    "            return\n",
    "        if not mail(email):\n",
    "            print(\"Invalid email address\")\n",
    "            return\n",
    "        newcontact=[]\n",
    "        newcontact.append(phone)\n",
    "        newcontact.append(email)\n",
    "        contacts[name]=newcontact\n",
    "        print(name,\"added successfully\")\n",
    "    return\n",
    "addcontacts(\"name4\",9876543219,\"name3@gmail.com\")\n",
    "contacts"
   ]
  },
  {
   "cell_type": "markdown",
   "metadata": {},
   "source": [
    "## File\n",
    "- It is a collection of information or data.\n",
    "- In file handling concept,python have two types of files:\n",
    "      i.Text file\n",
    "      ii.Binary file\n",
    "- Modes\n",
    "      i.Write mode(w).\n",
    "      ii.Read mode(r).\n",
    "      iii.Create and update mode(a).\n",
    "      iv.Create a file(x)."
   ]
  },
  {
   "cell_type": "code",
   "execution_count": 22,
   "metadata": {},
   "outputs": [],
   "source": [
    "f=open(\"566.txt\",\"w\")\n",
    "f.write(\"Create and write data in it.\")\n",
    "f.close()"
   ]
  },
  {
   "cell_type": "code",
   "execution_count": 23,
   "metadata": {},
   "outputs": [
    {
     "name": "stdout",
     "output_type": "stream",
     "text": [
      "Create and write data in it.\n"
     ]
    }
   ],
   "source": [
    "f=open(\"566.txt\",\"r\")\n",
    "print(f.read())\n",
    "f.close()"
   ]
  },
  {
   "cell_type": "code",
   "execution_count": 24,
   "metadata": {},
   "outputs": [],
   "source": [
    "f=open(\"566.txt\",\"w\")\n",
    "f.write(\"update the data\")\n",
    "f.close()"
   ]
  },
  {
   "cell_type": "code",
   "execution_count": 25,
   "metadata": {},
   "outputs": [
    {
     "name": "stdout",
     "output_type": "stream",
     "text": [
      "update the data\n"
     ]
    }
   ],
   "source": [
    "f=open(\"566.txt\",\"r\")\n",
    "print(f.read())\n",
    "f.close()"
   ]
  },
  {
   "cell_type": "code",
   "execution_count": 30,
   "metadata": {},
   "outputs": [
    {
     "name": "stdout",
     "output_type": "stream",
     "text": [
      "['line1\\n']\n"
     ]
    }
   ],
   "source": [
    "f=open(\"566.txt\",\"r\")\n",
    "print(f.readlines(3))\n",
    "f.close()"
   ]
  },
  {
   "cell_type": "code",
   "execution_count": 40,
   "metadata": {},
   "outputs": [],
   "source": [
    "#Task-1:\n",
    "#Sorting the data present in files\n",
    "l1=[]\n",
    "with open(\"566.txt\",\"r\") as f:\n",
    "    for i in f.read():\n",
    "        if i.isdigit():\n",
    "            l1.append(i)\n",
    "            l1.sort()\n",
    "for i in l1:\n",
    "    with open(\"5661.txt\",\"a\") as f:\n",
    "        i=str(i)\n",
    "        f.write(i+'\\n')"
   ]
  },
  {
   "cell_type": "code",
   "execution_count": 43,
   "metadata": {},
   "outputs": [
    {
     "name": "stdout",
     "output_type": "stream",
     "text": [
      "0\n",
      "a,b,c,d,e,g,h,i,j,k\n",
      "29\n"
     ]
    }
   ],
   "source": [
    "with open(\"cs.txt\",\"r+\") as f:\n",
    "    print(f.tell())\n",
    "    print(f.read())\n",
    "    f.write(\",g,h,i,j,k\")\n",
    "    print(f.tell())"
   ]
  },
  {
   "cell_type": "code",
   "execution_count": 9,
   "metadata": {},
   "outputs": [
    {
     "name": "stdout",
     "output_type": "stream",
     "text": [
      "kieuhL@1\n"
     ]
    },
    {
     "ename": "TypeError",
     "evalue": "argument of type 'NoneType' is not iterable",
     "output_type": "error",
     "traceback": [
      "\u001b[1;31m---------------------------------------------------------------------------\u001b[0m",
      "\u001b[1;31mTypeError\u001b[0m                                 Traceback (most recent call last)",
      "\u001b[1;32m<ipython-input-9-156500ee889d>\u001b[0m in \u001b[0;36m<module>\u001b[1;34m\u001b[0m\n\u001b[0;32m      7\u001b[0m     \u001b[1;32melse\u001b[0m\u001b[1;33m:\u001b[0m\u001b[1;33m\u001b[0m\u001b[1;33m\u001b[0m\u001b[0m\n\u001b[0;32m      8\u001b[0m         \u001b[0mprint\u001b[0m\u001b[1;33m(\u001b[0m\u001b[1;34m\"False\"\u001b[0m\u001b[1;33m)\u001b[0m\u001b[1;33m\u001b[0m\u001b[1;33m\u001b[0m\u001b[0m\n\u001b[1;32m----> 9\u001b[1;33m \u001b[0mpw\u001b[0m\u001b[1;33m(\u001b[0m\u001b[1;34m'kjhgdL@1'\u001b[0m\u001b[1;33m,\u001b[0m\u001b[0ms\u001b[0m\u001b[1;33m)\u001b[0m\u001b[1;33m\u001b[0m\u001b[1;33m\u001b[0m\u001b[0m\n\u001b[0m",
      "\u001b[1;32m<ipython-input-9-156500ee889d>\u001b[0m in \u001b[0;36mpw\u001b[1;34m(pattern, s)\u001b[0m\n\u001b[0;32m      3\u001b[0m \u001b[1;32mdef\u001b[0m \u001b[0mpw\u001b[0m\u001b[1;33m(\u001b[0m\u001b[0mpattern\u001b[0m\u001b[1;33m,\u001b[0m\u001b[0ms\u001b[0m\u001b[1;33m)\u001b[0m\u001b[1;33m:\u001b[0m\u001b[1;33m\u001b[0m\u001b[1;33m\u001b[0m\u001b[0m\n\u001b[0;32m      4\u001b[0m     \u001b[0mpattern\u001b[0m\u001b[1;33m=\u001b[0m\u001b[1;34m\"^[A-Z]{1}$|^[a-z]{5}$|^[!@#$%^]{1}$|^[0-9]{1}\"\u001b[0m\u001b[1;33m\u001b[0m\u001b[1;33m\u001b[0m\u001b[0m\n\u001b[1;32m----> 5\u001b[1;33m     \u001b[1;32mif\u001b[0m \u001b[0ms\u001b[0m \u001b[1;32min\u001b[0m \u001b[0mre\u001b[0m\u001b[1;33m.\u001b[0m\u001b[0mmatch\u001b[0m\u001b[1;33m(\u001b[0m\u001b[0mpattern\u001b[0m\u001b[1;33m,\u001b[0m\u001b[0ms\u001b[0m\u001b[1;33m)\u001b[0m\u001b[1;33m:\u001b[0m\u001b[1;33m\u001b[0m\u001b[1;33m\u001b[0m\u001b[0m\n\u001b[0m\u001b[0;32m      6\u001b[0m         \u001b[0mprint\u001b[0m\u001b[1;33m(\u001b[0m\u001b[0ms\u001b[0m\u001b[1;33m)\u001b[0m\u001b[1;33m\u001b[0m\u001b[1;33m\u001b[0m\u001b[0m\n\u001b[0;32m      7\u001b[0m     \u001b[1;32melse\u001b[0m\u001b[1;33m:\u001b[0m\u001b[1;33m\u001b[0m\u001b[1;33m\u001b[0m\u001b[0m\n",
      "\u001b[1;31mTypeError\u001b[0m: argument of type 'NoneType' is not iterable"
     ]
    }
   ],
   "source": [
    "import re\n",
    "s=str(input())\n",
    "def pw(pattern,s):\n",
    "    pattern=\"^[A-Z]{1}$|^[a-z]{5}$|^[!@#$%^]{1}$|^[0-9]{1}\"\n",
    "    if s in re.match(pattern,s):\n",
    "        print(s)\n",
    "    else:\n",
    "        print(\"False\")\n",
    "pw('kjhgdL@1',s)"
   ]
  },
  {
   "cell_type": "code",
   "execution_count": null,
   "metadata": {},
   "outputs": [],
   "source": []
  }
 ],
 "metadata": {
  "kernelspec": {
   "display_name": "Python 3",
   "language": "python",
   "name": "python3"
  },
  "language_info": {
   "codemirror_mode": {
    "name": "ipython",
    "version": 3
   },
   "file_extension": ".py",
   "mimetype": "text/x-python",
   "name": "python",
   "nbconvert_exporter": "python",
   "pygments_lexer": "ipython3",
   "version": "3.7.4"
  }
 },
 "nbformat": 4,
 "nbformat_minor": 2
}
