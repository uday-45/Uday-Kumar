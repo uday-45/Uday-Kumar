{
 "cells": [
  {
   "cell_type": "code",
   "execution_count": 1,
   "metadata": {},
   "outputs": [
    {
     "name": "stdout",
     "output_type": "stream",
     "text": [
      "<class 'str'>\n"
     ]
    }
   ],
   "source": [
    "name = \"python\"\n",
    "print(type(name))"
   ]
  },
  {
   "cell_type": "code",
   "execution_count": 2,
   "metadata": {},
   "outputs": [
    {
     "name": "stdout",
     "output_type": "stream",
     "text": [
      "5\n",
      "6\n",
      "6\n"
     ]
    }
   ],
   "source": [
    "s1='''Hi this is nsrit college\n",
    "      welcome to second day of workshop\n",
    "      lets learn something new'''\n",
    "print(5)\n",
    "print(6)\n",
    "print(6)"
   ]
  },
  {
   "cell_type": "markdown",
   "metadata": {},
   "source": [
    "#Python operators:\n",
    "1. Arithmetic operators \n",
    "2. Relational operators \n",
    "3. Logical operators \n",
    "4. Bitwise operators\n",
    "5. Assignment operators\n",
    "6. Membership operators\n",
    "7. Identity operators "
   ]
  },
  {
   "cell_type": "code",
   "execution_count": null,
   "metadata": {},
   "outputs": [
    {
     "name": "stdout",
     "output_type": "stream",
     "text": [
      "\n",
      "Welcome to Python 3.7's help utility!\n",
      "\n",
      "If this is your first time using Python, you should definitely check out\n",
      "the tutorial on the Internet at https://docs.python.org/3.7/tutorial/.\n",
      "\n",
      "Enter the name of any module, keyword, or topic to get help on writing\n",
      "Python programs and using Python modules.  To quit this help utility and\n",
      "return to the interpreter, just type \"quit\".\n",
      "\n",
      "To get a list of available modules, keywords, symbols, or topics, type\n",
      "\"modules\", \"keywords\", \"symbols\", or \"topics\".  Each module also comes\n",
      "with a one-line summary of what it does; to list the modules whose name\n",
      "or summary contain a given string such as \"spam\", type \"modules spam\".\n",
      "\n",
      "help> keywords\n",
      "\n",
      "Here is a list of the Python keywords.  Enter any keyword to get more help.\n",
      "\n",
      "False               class               from                or\n",
      "None                continue            global              pass\n",
      "True                def                 if                  raise\n",
      "and                 del                 import              return\n",
      "as                  elif                in                  try\n",
      "assert              else                is                  while\n",
      "async               except              lambda              with\n",
      "await               finally             nonlocal            yield\n",
      "break               for                 not                 \n",
      "\n",
      "help> module\n",
      "No Python documentation found for 'module'.\n",
      "Use help() to get the interactive help utility.\n",
      "Use help(str) for help on the str class.\n",
      "\n",
      "help> modules\n",
      "\n",
      "Please wait a moment while I gather a list of all available modules...\n",
      "\n"
     ]
    },
    {
     "name": "stderr",
     "output_type": "stream",
     "text": [
      "C:\\ProgramData\\Anaconda3\\lib\\site-packages\\IPython\\kernel\\__init__.py:13: ShimWarning: The `IPython.kernel` package has been deprecated since IPython 4.0.You should import from ipykernel or jupyter_client instead.\n",
      "  \"You should import from ipykernel or jupyter_client instead.\", ShimWarning)\n",
      "WARNING: AstropyDeprecationWarning: astropy.utils.compat.futures is now deprecated - use concurrent.futures instead [astropy.utils.compat.futures]\n",
      "C:\\ProgramData\\Anaconda3\\lib\\site-packages\\nltk\\twitter\\__init__.py:22: UserWarning: The twython library has not been installed. Some functionality from the twitter package will not be available.\n",
      "  \"The twython library has not been installed. \"\n"
     ]
    },
    {
     "name": "stdout",
     "output_type": "stream",
     "text": [
      "DEBUG:pip._internal.vcs.versioncontrol:Registered VCS backend: bzr\n",
      "DEBUG:pip._internal.vcs.versioncontrol:Registered VCS backend: git\n",
      "DEBUG:pip._internal.vcs.versioncontrol:Registered VCS backend: hg\n",
      "DEBUG:pip._internal.vcs.versioncontrol:Registered VCS backend: svn\n"
     ]
    },
    {
     "name": "stderr",
     "output_type": "stream",
     "text": [
      "C:\\ProgramData\\Anaconda3\\lib\\site-packages\\skimage\\novice\\__init__.py:103: UserWarning: The `skimage.novice` module was deprecated in version 0.14. It will be removed in 0.16.\n",
      "  warnings.warn(\"The `skimage.novice` module was deprecated in version 0.14. \"\n",
      "C:\\ProgramData\\Anaconda3\\lib\\site-packages\\skimage\\viewer\\utils\\core.py:10: UserWarning: Recommended matplotlib backend is `Agg` for full skimage.viewer functionality.\n",
      "  warn(\"Recommended matplotlib backend is `Agg` for full \"\n",
      "C:\\ProgramData\\Anaconda3\\lib\\site-packages\\sklearn\\externals\\joblib\\__init__.py:15: DeprecationWarning: sklearn.externals.joblib is deprecated in 0.21 and will be removed in 0.23. Please import this functionality directly from joblib, which can be installed with: pip install joblib. If this warning is raised when loading pickled models, you may need to re-serialize those models with scikit-learn 0.21+.\n",
      "  warnings.warn(msg, category=DeprecationWarning)\n",
      "C:\\ProgramData\\Anaconda3\\lib\\site-packages\\qtawesome\\iconic_font.py:301: UserWarning: You need to have a running QApplication to use QtAwesome!\n",
      "  warnings.warn(\"You need to have a running \"\n",
      "C:\\ProgramData\\Anaconda3\\lib\\pkgutil.py:107: VisibleDeprecationWarning: zmq.eventloop.minitornado is deprecated in pyzmq 14.0 and will be removed.\n",
      "    Install tornado itself to use zmq with the tornado IOLoop.\n",
      "    \n",
      "  yield from walk_packages(path, info.name+'.', onerror)\n"
     ]
    },
    {
     "name": "stdout",
     "output_type": "stream",
     "text": [
      "Crypto              brain_six           markupsafe          socketserver\n",
      "Cython              brain_ssl           marshal             socks\n",
      "IPython             brain_subprocess    math                sockshandler\n",
      "OpenSSL             brain_threading     matplotlib          sortedcollections\n",
      "PIL                 brain_typing        mccabe              sortedcontainers\n",
      "PyQt5               brain_uuid          menuinst            soupsieve\n",
      "__future__          bs4                 mimetypes           sphinx\n",
      "_abc                builtins            mistune             sphinxcontrib\n",
      "_ast                bz2                 mkl                 spyder\n",
      "_asyncio            cProfile            mkl_fft             spyder_breakpoints\n",
      "_bisect             calendar            mkl_random          spyder_io_dcm\n",
      "_blake2             certifi             mmap                spyder_io_hdf5\n",
      "_bootlocale         cffi                mmapfile            spyder_kernels\n",
      "_bz2                cgi                 mmsystem            spyder_profiler\n",
      "_cffi_backend       cgitb               mock                spyder_pylint\n",
      "_codecs             chardet             modulefinder        sqlalchemy\n",
      "_codecs_cn          chunk               more_itertools      sqlite3\n",
      "_codecs_hk          click               mpmath              sre_compile\n",
      "_codecs_iso2022     cloudpickle         msgpack             sre_constants\n",
      "_codecs_jp          clyent              msilib              sre_parse\n",
      "_codecs_kr          cmath               msvcrt              ssl\n",
      "_codecs_tw          cmd                 multipledispatch    sspi\n",
      "_collections        code                multiprocessing     sspicon\n",
      "_collections_abc    codecs              navigator_updater   stat\n",
      "_compat_pickle      codeop              nbconvert           statistics\n",
      "_compression        collections         nbformat            statsmodels\n",
      "_contextvars        colorama            netbios             storemagic\n",
      "_csv                colorsys            netrc               string\n",
      "_ctypes             commctrl            networkx            stringprep\n",
      "_ctypes_test        compileall          nltk                struct\n",
      "_datetime           comtypes            nntplib             subprocess\n",
      "_decimal            concurrent          nose                sunau\n",
      "_dummy_thread       conda               notebook            symbol\n",
      "_elementtree        conda_build         nt                  sympy\n",
      "_functools          conda_env           ntpath              sympyprinting\n",
      "_hashlib            conda_package_handling ntsecuritycon       symtable\n",
      "_heapq              conda_verify        nturl2path          sys\n",
      "_imp                configparser        numba               sysconfig\n",
      "_io                 contextlib          numbers             tables\n",
      "_json               contextlib2         numexpr             tabnanny\n",
      "_locale             contextvars         numpy               tarfile\n",
      "_lsprof             copy                numpydoc            tblib\n",
      "_lzma               copyreg             odbc                telnetlib\n",
      "_markupbase         crypt               olefile             tempfile\n",
      "_md5                cryptography        opcode              terminado\n",
      "_msi                csv                 openpyxl            test\n",
      "_multibytecodec     ctypes              operator            test_data\n",
      "_multiprocessing    curl                optparse            test_pycosat\n",
      "_nsis               curses              os                  testpath\n",
      "_opcode             cwp                 packaging           tests\n",
      "_operator           cycler              pandas              textwrap\n",
      "_osx_support        cython              pandocfilters       this\n",
      "_overlapped         cythonmagic         parser              threading\n",
      "_pickle             cytoolz             parso               time\n",
      "_py_abc             dask                partd               timeit\n",
      "_pydecimal          dataclasses         past                timer\n",
      "_pyio               datetime            path                tkinter\n",
      "_pylief             dateutil            pathlib             tlz\n",
      "_pyrsistent_version dbi                 pathlib2            token\n",
      "_pytest             dbm                 patsy               tokenize\n",
      "_queue              dde                 pdb                 toolz\n",
      "_random             decimal             pep8                tornado\n",
      "_sha1               decorator           perfmon             tqdm\n",
      "_sha256             defusedxml          pickle              trace\n",
      "_sha3               difflib             pickleshare         traceback\n",
      "_sha512             dis                 pickletools         tracemalloc\n",
      "_signal             distributed         pip                 traitlets\n",
      "_sitebuiltins       distutils           pipes               tty\n",
      "_socket             doctest             pkg_resources       turtle\n",
      "_sqlite3            docutils            pkginfo             turtledemo\n",
      "_sre                dummy_threading     pkgutil             types\n",
      "_ssl                easy_install        platform            typing\n",
      "_stat               email               plistlib            unicodecsv\n",
      "_string             encodings           pluggy              unicodedata\n",
      "_strptime           ensurepip           ply                 unittest\n",
      "_struct             entrypoints         poplib              urllib\n",
      "_symtable           enum                posixpath           urllib3\n",
      "_system_path        errno               pprint              uu\n",
      "_testbuffer         et_xmlfile          profile             uuid\n",
      "_testcapi           fastcache           prometheus_client   venv\n",
      "_testconsole        faulthandler        prompt_toolkit      warnings\n",
      "_testimportmultiple filecmp             pstats              wave\n",
      "_testmultiphase     fileinput           psutil              wcwidth\n",
      "_thread             filelock            pty                 weakref\n",
      "_threading_local    flask               pvectorc            webbrowser\n",
      "_tkinter            fnmatch             py                  webencodings\n",
      "_tracemalloc        formatter           py_compile          werkzeug\n",
      "_warnings           fractions           pyclbr              wheel\n",
      "_weakref            fsspec              pycodestyle         widgetsnbextension\n",
      "_weakrefset         ftplib              pycosat             win2kras\n",
      "_win32sysloader     functools           pycparser           win32api\n",
      "_winapi             future              pycurl              win32clipboard\n",
      "_winxptheme         gc                  pydoc               win32com\n",
      "_yaml               genericpath         pydoc_data          win32con\n",
      "abc                 getopt              pyexpat             win32console\n",
      "adodbapi            getpass             pyflakes            win32cred\n",
      "afxres              gettext             pygments            win32crypt\n",
      "aifc                gevent              pylab               win32cryptcon\n",
      "alabaster           glob                pylint              win32event\n",
      "anaconda_navigator  glob2               pyodbc              win32evtlog\n",
      "anaconda_project    greenlet            pyparsing           win32evtlogutil\n",
      "antigravity         gzip                pyreadline          win32file\n",
      "argparse            h5py                pyrsistent          win32gui\n",
      "array               hashlib             pytest              win32gui_struct\n",
      "asn1crypto          heapdict            pytest_arraydiff    win32help\n",
      "ast                 heapq               pytest_doctestplus  win32inet\n",
      "astroid             hmac                pytest_openfiles    win32inetcon\n",
      "astropy             html                pytest_remotedata   win32job\n",
      "asynchat            html5lib            pythoncom           win32lz\n",
      "asyncio             http                pytz                win32net\n",
      "asyncore            idlelib             pywin               win32netcon\n",
      "atexit              idna                pywin32_testutil    win32pdh\n",
      "atomicwrites        imageio             pywintypes          win32pdhquery\n",
      "attr                imagesize           pywt                win32pdhutil\n",
      "audioop             imaplib             pyximport           win32pipe\n",
      "autoreload          imghdr              qtawesome           win32print\n",
      "babel               imp                 qtconsole           win32process\n",
      "backcall            importlib           qtpy                win32profile\n",
      "backports           importlib_metadata  queue               win32ras\n",
      "base64              inspect             quopri              win32rcparser\n",
      "bdb                 io                  random              win32security\n",
      "binascii            ipaddress           rasutil             win32service\n",
      "binhex              ipykernel           re                  win32serviceutil\n",
      "binstar_client      ipykernel_launcher  readline            win32timezone\n",
      "bisect              ipython_genutils    regcheck            win32trace\n",
      "bitarray            ipywidgets          regutil             win32traceutil\n",
      "bkcharts            isapi               reprlib             win32transaction\n",
      "bleach              isort               requests            win32ts\n",
      "bokeh               isympy              rlcompleter         win32ui\n",
      "boto                itertools           rmagic              win32uiole\n",
      "bottleneck          itsdangerous        rope                win32verstamp\n",
      "brain_argparse      jdcal               ruamel_yaml         win32wnet\n",
      "brain_attrs         jedi                run                 win_inet_pton\n",
      "brain_builtin_inference jinja2              runpy               win_unicode_console\n",
      "brain_collections   joblib              sched               wincertstore\n",
      "brain_crypt         json                scipy               winerror\n",
      "brain_curses        json5               scripts             winioctlcon\n",
      "brain_dataclasses   jsonschema          seaborn             winnt\n",
      "brain_dateutil      jupyter             secrets             winperf\n",
      "brain_fstrings      jupyter_client      select              winpty\n",
      "brain_functools     jupyter_console     selectors           winreg\n",
      "brain_gi            jupyter_core        send2trash          winsound\n",
      "brain_hashlib       jupyterlab          servicemanager      winxpgui\n",
      "brain_http          jupyterlab_server   setuptools          winxptheme\n",
      "brain_io            keyring             shelve              wrapt\n",
      "brain_mechanize     keyword             shlex               wsgiref\n",
      "brain_multiprocessing kiwisolver          shutil              xdrlib\n",
      "brain_namedtuple_enum lazy_object_proxy   signal              xlrd\n",
      "brain_nose          lib2to3             simplegeneric       xlsxwriter\n",
      "brain_numpy_core_fromnumeric libarchive          singledispatch      xlwings\n",
      "brain_numpy_core_function_base libfuturize         singledispatch_helpers xlwt\n",
      "brain_numpy_core_multiarray libpasteurize       sip                 xml\n",
      "brain_numpy_core_numeric lief                sipconfig           xmlrpc\n",
      "brain_numpy_core_numerictypes linecache           sipdistutils        xxsubtype\n",
      "brain_numpy_core_umath llvmlite            site                yaml\n",
      "brain_numpy_ndarray locale              six                 zict\n",
      "brain_numpy_random_mtrand locket              skimage             zipapp\n",
      "brain_numpy_utils   logging             sklearn             zipfile\n",
      "brain_pkg_resources lxml                smtpd               zipimport\n",
      "brain_pytest        lzma                smtplib             zipp\n",
      "brain_qt            macpath             sndhdr              zlib\n",
      "brain_random        mailbox             snowballstemmer     zmq\n",
      "brain_re            mailcap             socket              \n",
      "\n",
      "Enter any module name to get more help.  Or, type \"modules spam\" to search\n",
      "for modules whose name or summary contain the string \"spam\".\n",
      "\n"
     ]
    }
   ],
   "source": [
    "help()"
   ]
  },
  {
   "cell_type": "code",
   "execution_count": 1,
   "metadata": {},
   "outputs": [
    {
     "name": "stdout",
     "output_type": "stream",
     "text": [
      "['False', 'None', 'True', 'and', 'as', 'assert', 'async', 'await', 'break', 'class', 'continue', 'def', 'del', 'elif', 'else', 'except', 'finally', 'for', 'from', 'global', 'if', 'import', 'in', 'is', 'lambda', 'nonlocal', 'not', 'or', 'pass', 'raise', 'return', 'try', 'while', 'with', 'yield']\n",
      "['__all__', '__builtins__', '__cached__', '__doc__', '__file__', '__loader__', '__name__', '__package__', '__spec__', 'iskeyword', 'kwlist', 'main']\n"
     ]
    }
   ],
   "source": [
    "import keyword\n",
    "print(keyword.kwlist,)\n",
    "print(dir(keyword))"
   ]
  },
  {
   "cell_type": "code",
   "execution_count": 9,
   "metadata": {},
   "outputs": [
    {
     "name": "stdout",
     "output_type": "stream",
     "text": [
      "Hello NSRIT Students\n",
      "<class 'str'>\n",
      "20\n",
      "Hello NSRIT StudentsCSE 2nd Yr Students\n",
      "Hello NSRIT StudentsHello NSRIT Students\n",
      "Hello NSRIT Students500\n"
     ]
    }
   ],
   "source": [
    "#Strings in python:\n",
    "s = \"Hello NSRIT Students\"\n",
    "print(s)\n",
    "print(type(s))\n",
    "print(len(s))\n",
    "s1 = \"CSE 2nd Yr Students\"\n",
    "print(s+s1)        #String concatenation\n",
    "print(s*2)         #String multiplication\n",
    "print(s+str(500))  #String addition by type casting"
   ]
  },
  {
   "cell_type": "code",
   "execution_count": 10,
   "metadata": {
    "scrolled": true
   },
   "outputs": [
    {
     "name": "stdout",
     "output_type": "stream",
     "text": [
      "['__add__', '__class__', '__contains__', '__delattr__', '__dir__', '__doc__', '__eq__', '__format__', '__ge__', '__getattribute__', '__getitem__', '__getnewargs__', '__gt__', '__hash__', '__init__', '__init_subclass__', '__iter__', '__le__', '__len__', '__lt__', '__mod__', '__mul__', '__ne__', '__new__', '__reduce__', '__reduce_ex__', '__repr__', '__rmod__', '__rmul__', '__setattr__', '__sizeof__', '__str__', '__subclasshook__', 'capitalize', 'casefold', 'center', 'count', 'encode', 'endswith', 'expandtabs', 'find', 'format', 'format_map', 'index', 'isalnum', 'isalpha', 'isascii', 'isdecimal', 'isdigit', 'isidentifier', 'islower', 'isnumeric', 'isprintable', 'isspace', 'istitle', 'isupper', 'join', 'ljust', 'lower', 'lstrip', 'maketrans', 'partition', 'replace', 'rfind', 'rindex', 'rjust', 'rpartition', 'rsplit', 'rstrip', 'split', 'splitlines', 'startswith', 'strip', 'swapcase', 'title', 'translate', 'upper', 'zfill'] "
     ]
    }
   ],
   "source": [
    "#String methods:\n",
    "print(dir(str),end=\" \")"
   ]
  },
  {
   "cell_type": "code",
   "execution_count": 14,
   "metadata": {},
   "outputs": [
    {
     "name": "stdout",
     "output_type": "stream",
     "text": [
      "PYTHON PROGRAMMING\n",
      "False\n",
      "apssdc\n",
      "Python programming\n",
      "Python Programming\n",
      "Apssdc\n"
     ]
    }
   ],
   "source": [
    "s = \"python programming\"\n",
    "print(s.upper())        #Changing to uppercase.\n",
    "print(s.isupper())      #Checking the condition for uppercase or not.\n",
    "s1 = \"APSSDC\"\n",
    "print(s1.lower())       #Changing to lowercase.\n",
    "print(s.capitalize())   #Capitalizing the string 's'.\n",
    "print(s.title())        #Changing the string 's' as title.\n",
    "print(s1.title())       #Changing the string 's1' as title. "
   ]
  },
  {
   "cell_type": "code",
   "execution_count": 18,
   "metadata": {},
   "outputs": [
    {
     "name": "stdout",
     "output_type": "stream",
     "text": [
      "['Knowledge', 'is', 'WEALTH']\n",
      "Knowledge is WEALTH \n",
      " Knowledge is WEALTH\n"
     ]
    }
   ],
   "source": [
    "s = \" Knowledge is WEALTH \"\n",
    "print(s.split())     #Splitting the string\n",
    "#print(s.strip())     #Stripping the string\n",
    "print(s.lstrip())\n",
    "print(s.rstrip())"
   ]
  },
  {
   "cell_type": "code",
   "execution_count": 19,
   "metadata": {},
   "outputs": [
    {
     "name": "stdout",
     "output_type": "stream",
     "text": [
      "1\n",
      "3\n",
      "29\n"
     ]
    }
   ],
   "source": [
    "s = \"Engineering students of vizag\"\n",
    "print(s.count(\"E\"))\n",
    "print(s.count(\"e\"))\n",
    "print(len(s))"
   ]
  },
  {
   "cell_type": "code",
   "execution_count": 24,
   "metadata": {},
   "outputs": [
    {
     "name": "stdout",
     "output_type": "stream",
     "text": [
      "True\n",
      "True\n",
      "True\n",
      "False\n",
      "True\n",
      "False\n",
      "False\n",
      "True\n",
      "MISSING THOSE DAYS\n",
      "missing those days\n"
     ]
    }
   ],
   "source": [
    "#String boolean functions\n",
    "a = \"123\"\n",
    "print(a.isdigit())\n",
    "s = \"abc\"\n",
    "print(s.isalpha())\n",
    "var = \"abc123\"\n",
    "print(var.isalnum())\n",
    "s1 = \"S\"\n",
    "print(s1.islower())\n",
    "print(s.isalnum())\n",
    "print(s1.isdigit())\n",
    "print(var.isalpha())\n",
    "s2 = \"Python Workshop\"\n",
    "print(s2.istitle())\n",
    "s3 = \"missing those days\"\n",
    "s4 = s3.swapcase()\n",
    "print(s4)\n",
    "print(s4.swapcase())"
   ]
  },
  {
   "cell_type": "code",
   "execution_count": 33,
   "metadata": {},
   "outputs": [
    {
     "name": "stdout",
     "output_type": "stream",
     "text": [
      "I\n",
      "n\n",
      "C\n",
      "IT Engineering\n",
      "leg\n"
     ]
    }
   ],
   "source": [
    "#String slicing:\n",
    "s = \"NSRIT Engineering College\"\n",
    "print(s[3])\n",
    "print(s[7])\n",
    "print(s[-7])\n",
    "print(s[3:17])\n",
    "print(s[-4:-1])"
   ]
  },
  {
   "cell_type": "code",
   "execution_count": 41,
   "metadata": {},
   "outputs": [
    {
     "name": "stdout",
     "output_type": "stream",
     "text": [
      "Enter a palindrome:oyo\n",
      "oyo  is palindrome\n"
     ]
    }
   ],
   "source": [
    "#Task-1:\n",
    "s = input(\"Enter a palindrome:\")\n",
    "if(s == s[::-1]):\n",
    "    print(s,\" is palindrome\")\n",
    "else:\n",
    "    print(s,\" is not a palindrome\")"
   ]
  },
  {
   "cell_type": "code",
   "execution_count": 58,
   "metadata": {},
   "outputs": [
    {
     "data": {
      "text/plain": [
       "'nohtypcdsspA'"
      ]
     },
     "execution_count": 58,
     "metadata": {},
     "output_type": "execute_result"
    }
   ],
   "source": [
    "#Task-2:\n",
    "s = \"A P S S D C P Y T H O N\"\n",
    "s=s[::2]\n",
    "s=s.capitalize()\n",
    "s[::-1]"
   ]
  },
  {
   "cell_type": "code",
   "execution_count": 60,
   "metadata": {},
   "outputs": [
    {
     "data": {
      "text/plain": [
       "'nohtypcdsspA'"
      ]
     },
     "execution_count": 60,
     "metadata": {},
     "output_type": "execute_result"
    }
   ],
   "source": [
    "s = \"A P S S D C P Y T H O N\"\n",
    "s.replace(\"A P S S D C P Y T H O N\",\"nohtypcdsspA\")"
   ]
  },
  {
   "cell_type": "code",
   "execution_count": 64,
   "metadata": {},
   "outputs": [
    {
     "data": {
      "text/plain": [
       "'nohtypcdsspA'"
      ]
     },
     "execution_count": 64,
     "metadata": {},
     "output_type": "execute_result"
    }
   ],
   "source": [
    "s = \"A P S S D C P Y T H O N\"\n",
    "s=s[::2]\n",
    "s=s[::-1]\n",
    "s=s.lower()\n",
    "s.replace(\"a\",\"A\")"
   ]
  },
  {
   "cell_type": "code",
   "execution_count": 1,
   "metadata": {},
   "outputs": [
    {
     "data": {
      "text/plain": [
       "'nohtypcdsspA'"
      ]
     },
     "execution_count": 1,
     "metadata": {},
     "output_type": "execute_result"
    }
   ],
   "source": [
    "s = \"A P S S D C P Y T H O N\"\n",
    "s=s.lower()\n",
    "s=s.capitalize()\n",
    "s=s[::-1]\n",
    "s.replace(\" \",\"\")"
   ]
  },
  {
   "cell_type": "code",
   "execution_count": 5,
   "metadata": {},
   "outputs": [
    {
     "name": "stdout",
     "output_type": "stream",
     "text": [
      "Enter a string:jsdhgf^%$#7654HFJYF\n",
      "19\n",
      "6\n",
      "5\n",
      "0\n",
      "4\n"
     ]
    }
   ],
   "source": [
    "#Task-3\n",
    "s =input(\"Enter a string:\")\n",
    "lower=0\n",
    "upper=0\n",
    "digit=0\n",
    "alnum=0\n",
    "for i in s:\n",
    "    if i.isdigit():\n",
    "        digit==1\n",
    "    elif i.isupper():\n",
    "        upper+=1\n",
    "    elif i.islower():\n",
    "        lower+=1\n",
    "    else:\n",
    "        alnum+=1\n",
    "print(len(s))\n",
    "print(lower)\n",
    "print(upper)\n",
    "print(digit)\n",
    "print(alnum)"
   ]
  },
  {
   "cell_type": "code",
   "execution_count": 6,
   "metadata": {},
   "outputs": [
    {
     "name": "stdout",
     "output_type": "stream",
     "text": [
      "Enter a string:jwqhgf%$#643KHVF7654\n",
      "20\n",
      "4\n",
      "6\n",
      "7\n",
      "3\n"
     ]
    }
   ],
   "source": [
    "s = input(\"Enter a string:\")\n",
    "upper,lower,digit,alnum=0,0,0,0\n",
    "for i in range(len(s)):\n",
    "    if(s[i]>='A' and s[i]<='Z'):\n",
    "        upper+=1\n",
    "    elif(s[i]>='a' and s[i]<='z'):\n",
    "        lower+=1\n",
    "    elif(s[i]>='0' and s[i]<='9'):\n",
    "        digit+=1\n",
    "    else:\n",
    "        alnum+=1\n",
    "print(len(s))\n",
    "print(upper)\n",
    "print(lower)\n",
    "print(digit)\n",
    "print(alnum)"
   ]
  },
  {
   "cell_type": "code",
   "execution_count": null,
   "metadata": {},
   "outputs": [],
   "source": [
    "#Functions:\n",
    "syntax:\n",
    "    def functionname(arguments):\n",
    "        statements......\n",
    "    functionname(arguments)"
   ]
  },
  {
   "cell_type": "code",
   "execution_count": null,
   "metadata": {},
   "outputs": [],
   "source": [
    "# Type of functions:\n",
    "1. In built functions\n",
    "2. User defined functions"
   ]
  },
  {
   "cell_type": "code",
   "execution_count": null,
   "metadata": {},
   "outputs": [],
   "source": [
    "print()\n",
    "input()\n",
    "type()\n",
    "range()\n",
    "len()\n",
    "def()"
   ]
  },
  {
   "cell_type": "code",
   "execution_count": 25,
   "metadata": {},
   "outputs": [
    {
     "name": "stdout",
     "output_type": "stream",
     "text": [
      "2 4 6 8 10 12 14 16 18 20 22 24 26 28 30 32 34 36 38 40 42 44 46 48 50 52 54 56 58 60 62 64 66 68 70 72 74 76 78 80 82 84 86 88 90 92 94 96 98 100 102 104 106 108 110 112 114 116 118 120 122 124 126 128 130 132 134 136 138 140 142 144 146 148 150 152 154 156 158 160 162 164 166 168 170 172 174 176 178 180 182 184 186 188 190 192 194 196 198 200 202 204 206 208 210 212 214 216 218 220 222 224 226 228 230 232 234 236 238 240 242 244 246 248 250 252 254 256 258 260 262 264 266 268 270 272 274 276 278 280 282 284 286 288 290 292 294 296 298 1 3 5 7 9 11 13 15 17 19 21 23 25 27 29 31 33 35 37 39 41 43 45 47 49 51 53 55 57 59 61 63 65 67 69 71 73 75 77 79 81 83 85 87 89 91 93 95 97 99 101 103 105 107 109 111 113 115 117 119 121 123 125 127 129 131 133 135 137 139 141 143 145 147 149 151 153 155 157 159 161 163 165 167 169 171 173 175 177 179 181 183 185 187 189 191 193 195 197 199 201 203 205 207 209 211 213 215 217 219 221 223 225 227 229 231 233 235 237 239 241 243 245 247 249 251 253 255 257 259 261 263 265 267 269 271 273 275 277 279 281 283 285 287 289 291 293 295 297 299 "
     ]
    }
   ],
   "source": [
    "#Task-1:\n",
    "#Print all even and odd numbers in range b/w 1 and 300 and also print their sum,sub,mul\n",
    "def even():\n",
    "    for i in range(1,300):\n",
    "        if(i%2==0):\n",
    "            print(i,end=\" \")\n",
    "def odd():\n",
    "    for i in range(1,300):\n",
    "        if(i%2!=0):\n",
    "            print(i,end=\" \")\n",
    "even()\n",
    "odd()"
   ]
  },
  {
   "cell_type": "code",
   "execution_count": 28,
   "metadata": {},
   "outputs": [
    {
     "name": "stdout",
     "output_type": "stream",
     "text": [
      "22350\n",
      "22500\n",
      "44850\n",
      "-150\n"
     ]
    }
   ],
   "source": [
    "#def evenoddcount():\n",
    "even=0\n",
    "odd=0\n",
    "for i in range(1,300):\n",
    "    if(i%2==0):\n",
    "        even+=i\n",
    "    else:\n",
    "        odd+=i\n",
    "#evenoddcount()\n",
    "print(even)\n",
    "print(odd)\n",
    "print(even+odd)\n",
    "print(even-odd)"
   ]
  },
  {
   "cell_type": "code",
   "execution_count": 35,
   "metadata": {},
   "outputs": [
    {
     "name": "stdout",
     "output_type": "stream",
     "text": [
      "1st table\n",
      "Enter a number:3\n",
      "3 * 1 = 3\n",
      "3 * 2 = 6\n",
      "3 * 3 = 9\n",
      "3 * 4 = 12\n",
      "3 * 5 = 15\n",
      "3 * 6 = 18\n",
      "3 * 7 = 21\n",
      "3 * 8 = 24\n",
      "3 * 9 = 27\n",
      "3 * 10 = 30\n",
      "3 * 11 = 33\n",
      "3 * 12 = 36\n",
      "----------\n",
      "2nd table\n",
      "Enter a number:5\n",
      "5 * 1 = 5\n",
      "5 * 2 = 10\n",
      "5 * 3 = 15\n",
      "5 * 4 = 20\n",
      "5 * 5 = 25\n",
      "5 * 6 = 30\n",
      "5 * 7 = 35\n",
      "5 * 8 = 40\n",
      "5 * 9 = 45\n",
      "5 * 10 = 50\n",
      "5 * 11 = 55\n",
      "5 * 12 = 60\n",
      "----------\n"
     ]
    }
   ],
   "source": [
    "#Task-2:\n",
    "#Print table of user input number\n",
    "print(\"1st table\")\n",
    "n=int(input(\"Enter a number:\"))\n",
    "for i in range(1,13):\n",
    "    print(n,\"*\",i,\"=\",n*i)\n",
    "print(\"----------\")\n",
    "print(\"2nd table\")\n",
    "m=int(input(\"Enter a number:\"))\n",
    "for i in range(1,13):\n",
    "    print(m,\"*\",i,\"=\",m*i)\n",
    "print(\"----------\")"
   ]
  },
  {
   "cell_type": "code",
   "execution_count": 36,
   "metadata": {},
   "outputs": [
    {
     "name": "stdout",
     "output_type": "stream",
     "text": [
      "Enter a number:3\n",
      "   \n",
      "1 st table\n",
      "----------\n",
      "1 * 1 = 1\n",
      "1 * 2 = 2\n",
      "1 * 3 = 3\n",
      "1 * 4 = 4\n",
      "1 * 5 = 5\n",
      "1 * 6 = 6\n",
      "1 * 7 = 7\n",
      "1 * 8 = 8\n",
      "1 * 9 = 9\n",
      "1 * 10 = 10\n",
      "1 * 11 = 11\n",
      "1 * 12 = 12\n",
      "   \n",
      "2 st table\n",
      "----------\n",
      "2 * 1 = 2\n",
      "2 * 2 = 4\n",
      "2 * 3 = 6\n",
      "2 * 4 = 8\n",
      "2 * 5 = 10\n",
      "2 * 6 = 12\n",
      "2 * 7 = 14\n",
      "2 * 8 = 16\n",
      "2 * 9 = 18\n",
      "2 * 10 = 20\n",
      "2 * 11 = 22\n",
      "2 * 12 = 24\n",
      "   \n",
      "3 st table\n",
      "----------\n",
      "3 * 1 = 3\n",
      "3 * 2 = 6\n",
      "3 * 3 = 9\n",
      "3 * 4 = 12\n",
      "3 * 5 = 15\n",
      "3 * 6 = 18\n",
      "3 * 7 = 21\n",
      "3 * 8 = 24\n",
      "3 * 9 = 27\n",
      "3 * 10 = 30\n",
      "3 * 11 = 33\n",
      "3 * 12 = 36\n"
     ]
    }
   ],
   "source": [
    "n=int(input(\"Enter a number:\"))\n",
    "for n in range(1,n+1):\n",
    "    print(\"   \")\n",
    "    print(n,\"st table\")\n",
    "    print(\"----------\")\n",
    "    for i in range(1,13):\n",
    "        print(n,\"*\",i,\"=\",n*i)"
   ]
  },
  {
   "cell_type": "code",
   "execution_count": 41,
   "metadata": {},
   "outputs": [
    {
     "name": "stdout",
     "output_type": "stream",
     "text": [
      "Enter the range:3\n",
      "Prime number\n"
     ]
    }
   ],
   "source": [
    "#Task-3:\n",
    "#Print all primes in given range\n",
    "n=int(input(\"Enter the range:\"))\n",
    "c=0\n",
    "for i in range(1,n+1):\n",
    "    if(n%i==0):\n",
    "        c+=1\n",
    "if(c==2):\n",
    "    print(\"Prime number\")\n",
    "else:\n",
    "    print(\"Not a prime number\")"
   ]
  },
  {
   "cell_type": "code",
   "execution_count": 42,
   "metadata": {},
   "outputs": [
    {
     "name": "stdout",
     "output_type": "stream",
     "text": [
      "Enter a number:4\n",
      "The factorial of  4 is 24\n"
     ]
    }
   ],
   "source": [
    "#Task-4:\n",
    "#Print the factorial of given number\n",
    "n=int(input(\"Enter a number:\"))\n",
    "fact=1\n",
    "for i in range(1,n+1):\n",
    "    fact=fact*i\n",
    "print(\"The factorial of \",n,\"is\",fact)"
   ]
  },
  {
   "cell_type": "code",
   "execution_count": 46,
   "metadata": {},
   "outputs": [
    {
     "name": "stdout",
     "output_type": "stream",
     "text": [
      "Enter a number:28\n",
      "Perfect number\n"
     ]
    }
   ],
   "source": [
    "#Task-5:\n",
    "#Check the number is perfect or not\n",
    "n=int(input(\"Enter a number:\"))\n",
    "sum=0\n",
    "for i in range(1,n):\n",
    "    if(n%i==0):\n",
    "        sum=sum+i\n",
    "if(sum==n):\n",
    "    print(\"Perfect number\")\n",
    "else:\n",
    "    print(\"Not a perfect number\")"
   ]
  },
  {
   "cell_type": "code",
   "execution_count": null,
   "metadata": {},
   "outputs": [],
   "source": [
    "#Types of arguments\n",
    "1. default arguments\n",
    "2. keyword arguments\n",
    "3. arbitrary arguments"
   ]
  },
  {
   "cell_type": "code",
   "execution_count": 47,
   "metadata": {},
   "outputs": [
    {
     "data": {
      "text/plain": [
       "'Python workshop at NSRIT VIZAG'"
      ]
     },
     "execution_count": 47,
     "metadata": {},
     "output_type": "execute_result"
    }
   ],
   "source": [
    "#Default arguments\n",
    "def workshop(college=\"NSRIT\",place=\"VIZAG\"):\n",
    "    return \"Python workshop at \"+college+\" \"+place\n",
    "workshop()"
   ]
  },
  {
   "cell_type": "code",
   "execution_count": 51,
   "metadata": {},
   "outputs": [
    {
     "data": {
      "text/plain": [
       "'It is in red colour and it can fly'"
      ]
     },
     "execution_count": 51,
     "metadata": {},
     "output_type": "execute_result"
    }
   ],
   "source": [
    "#Keyword arguments\n",
    "def cock(action,colour):\n",
    "    return \"It is in \"+colour+\" colour and it can \"+action\n",
    "cock(colour=\"red\",action=\"fly\")"
   ]
  },
  {
   "cell_type": "code",
   "execution_count": 50,
   "metadata": {},
   "outputs": [
    {
     "data": {
      "text/plain": [
       "('Kohli', 'Rohit', 'Bumrah')"
      ]
     },
     "execution_count": 50,
     "metadata": {},
     "output_type": "execute_result"
    }
   ],
   "source": [
    "#Arbitrary arguments\n",
    "def players(*names):\n",
    "    return names\n",
    "players(\"Kohli\",\"Rohit\",\"Bumrah\")"
   ]
  },
  {
   "cell_type": "code",
   "execution_count": null,
   "metadata": {},
   "outputs": [],
   "source": []
  }
 ],
 "metadata": {
  "kernelspec": {
   "display_name": "Python 3",
   "language": "python",
   "name": "python3"
  },
  "language_info": {
   "codemirror_mode": {
    "name": "ipython",
    "version": 3
   },
   "file_extension": ".py",
   "mimetype": "text/x-python",
   "name": "python",
   "nbconvert_exporter": "python",
   "pygments_lexer": "ipython3",
   "version": "3.7.4"
  }
 },
 "nbformat": 4,
 "nbformat_minor": 2
}
